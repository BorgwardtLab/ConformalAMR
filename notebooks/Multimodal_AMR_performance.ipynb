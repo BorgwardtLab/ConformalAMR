{
 "cells": [
  {
   "cell_type": "code",
   "execution_count": 1,
   "metadata": {},
   "outputs": [],
   "source": [
    "import warnings\n",
    "warnings.filterwarnings(\"ignore\")"
   ]
  },
  {
   "cell_type": "markdown",
   "metadata": {},
   "source": [
    "# Visualization of model performance - Multimodal AMR"
   ]
  },
  {
   "cell_type": "code",
   "execution_count": 2,
   "metadata": {},
   "outputs": [],
   "source": [
    "import os\n",
    "import json\n",
    "import pandas as pd\n",
    "import numpy as np\n",
    "\n",
    "import pandas as pd\n",
    "import matplotlib.pyplot as plt\n",
    "import seaborn as sns\n",
    "import glob\n",
    "\n",
    "from notebook_utils import *"
   ]
  },
  {
   "cell_type": "code",
   "execution_count": null,
   "metadata": {},
   "outputs": [],
   "source": [
    "results_path = \"../results/\"\n",
    "os.makedirs(results_path, exist_ok=True)"
   ]
  },
  {
   "cell_type": "code",
   "execution_count": 4,
   "metadata": {},
   "outputs": [],
   "source": [
    "# Load all results\n",
    "results_dict = {}\n",
    "for dataset in [\"A\"]:\n",
    "    for method in [\"spectra\"]:\n",
    "        for drug_representation in [\"Morgan_1024\", \"Mole_BERT\"]:\n",
    "            results = pd.read_csv(\n",
    "                f\"{results_path}/Stratified_by_species/{drug_representation}/ConformalAMR/Conformal_DRIAMS-{dataset}_{method}_results/test_set_seed0.csv\"\n",
    "            )\n",
    "            results_dict[f\"DRIAMS-{dataset}_{method}_{drug_representation}\"] = results"
   ]
  },
  {
   "cell_type": "code",
   "execution_count": 5,
   "metadata": {},
   "outputs": [],
   "source": [
    "finetuned_results_dict = {}\n",
    "for dataset in [\"A\"]:\n",
    "    for drug_representation in [\"Morgan_1024\", \"Mole_BERT\"]:\n",
    "        finetuned_results = []\n",
    "        finetuned_results_train = []\n",
    "\n",
    "        finetuned_path = f\"{results_path}/{split}/{drug_representation}/ConformalAMR/Conformal_DRIAMS-{dataset}_spectra_results/finetuned_models/ConformalAMR/FinetuningResMLP/finetuning\"\n",
    "        for species_drug_combination in os.listdir(finetuned_path):\n",
    "            try:\n",
    "                finetuned_results.append(\n",
    "                    pd.read_csv(\n",
    "                        f\"{finetuned_path}/{species_drug_combination}/predictions/split_None.csv\"\n",
    "                    )\n",
    "                )\n",
    "                if drug_representation == \"Mole_BERT\":\n",
    "                    finetuned_results_train.append(\n",
    "                        pd.read_csv(\n",
    "                            f\"{finetuned_path}/{species_drug_combination}/predictions/split_None_train.csv\"\n",
    "                        )\n",
    "                    )\n",
    "            except FileNotFoundError:\n",
    "                continue\n",
    "\n",
    "        finetuned_results = pd.concat(finetuned_results)\n",
    "        finetuned_results.rename(\n",
    "            columns={\"predicted_proba\": \"Predictions\"}, inplace=True\n",
    "        )\n",
    "        finetuned_results_dict[f\"DRIAMS-{dataset}_spectra_{drug_representation}\"] = (\n",
    "            finetuned_results\n",
    "        )\n",
    "        finetuned_results.to_csv(\n",
    "            f\"{results_path}/{split}/{drug_representation}/ConformalAMR/Conformal_DRIAMS-{dataset}_spectra_results/finetuned_models/finetuned_results_test.csv\",\n",
    "            index=False,\n",
    "        )\n",
    "\n",
    "        if drug_representation == \"Mole_BERT\":  # Update training set predictions\n",
    "            finetuned_results_train = pd.concat(finetuned_results_train)\n",
    "            finetuned_results_train.rename(\n",
    "                columns={\"predicted_proba\": \"Predictions\"}, inplace=True\n",
    "            )\n",
    "            finetuned_results_dict[\n",
    "                f\"DRIAMS-{dataset}_spectra_train_{drug_representation}\"\n",
    "            ] = finetuned_results_train\n",
    "            finetuned_results_train.to_csv(\n",
    "                f\"{results_path}/{split}/{drug_representation}/ConformalAMR/Conformal_DRIAMS-{dataset}_spectra_results/finetuned_models/finetuned_results_train.csv\",\n",
    "                index=False,\n",
    "            )"
   ]
  },
  {
   "cell_type": "code",
   "execution_count": 6,
   "metadata": {},
   "outputs": [],
   "source": [
    "# Define relevant drugs\n",
    "coli_drugs = [\n",
    "    \"Ertapenem\",\n",
    "    \"Amoxicillin-Clavulanic acid\",\n",
    "    \"Piperacillin-Tazobactam\",\n",
    "    \"Ceftriaxone\",\n",
    "    \"Ceftazidime\",\n",
    "    \"Cefepime\",\n",
    "    \"Ciprofloxacin\",\n",
    "    \"Levofloxacin\",\n",
    "]\n",
    "pneumoniae_drugs = [\n",
    "    \"Ertapenem\",\n",
    "    \"Imipenem\",\n",
    "    \"Meropenem\",\n",
    "    \"Amoxicillin-Clavulanic acid\",\n",
    "    \"Piperacillin-Tazobactam\",\n",
    "    \"Ceftriaxone\",\n",
    "    \"Ceftazidime\",\n",
    "    \"Cefepime\",\n",
    "    \"Ciprofloxacin\",\n",
    "    \"Levofloxacin\",\n",
    "]"
   ]
  },
  {
   "cell_type": "markdown",
   "metadata": {},
   "source": [
    "### Write base and fine-tuned table comparing performance per species and drug with baselines"
   ]
  },
  {
   "cell_type": "code",
   "execution_count": 8,
   "metadata": {},
   "outputs": [],
   "source": [
    "from collections import defaultdict\n",
    "\n",
    "\n",
    "def get_performance_table(results_dicts, species, drugs, bootstrap=1000):\n",
    "    performance_dict = defaultdict(dict)\n",
    "    for key, results in results_dicts.items():\n",
    "        data = results.loc[results[\"species\"] == species]\n",
    "        for drug in drugs:\n",
    "            try:\n",
    "                metrics = get_metrics(\n",
    "                    data.loc[data.drug == drug], species=species, bootstraps=bootstrap\n",
    "                )\n",
    "                metrics = pd.DataFrame(\n",
    "                    {\n",
    "                        \"Median\": [metrics[\"roc_auc\"], metrics[\"average_precision\"]],\n",
    "                        \"IC95_low\": [\n",
    "                            metrics[\"roc_auc_low\"],\n",
    "                            metrics[\"average_precision_low\"],\n",
    "                        ],\n",
    "                        \"IC95_high\": [\n",
    "                            metrics[\"roc_auc_high\"],\n",
    "                            metrics[\"average_precision_high\"],\n",
    "                        ],\n",
    "                    },\n",
    "                    index=[\"AUROC\", \"AUPRC\"],\n",
    "                )\n",
    "            except (IndexError, ValueError):\n",
    "                metrics = pd.DataFrame(\n",
    "                    {\n",
    "                        \"Median\": [np.nan, np.nan],\n",
    "                        \"IC95_low\": [np.nan, np.nan],\n",
    "                        \"IC95_high\": [np.nan, np.nan],\n",
    "                    },\n",
    "                    index=[\"AUROC\", \"AUPRC\"],\n",
    "                )\n",
    "\n",
    "            performance_dict[key][drug] = metrics\n",
    "\n",
    "    performance_dfs = [\n",
    "        pd.concat(performance_dict[key], axis=1).set_index(\n",
    "            pd.MultiIndex.from_product([[key], [\"AUROC\", \"AUPRC\"]])\n",
    "        )\n",
    "        for key in results_dicts.keys()\n",
    "    ]\n",
    "\n",
    "    return pd.concat(performance_dfs, axis=0)"
   ]
  },
  {
   "cell_type": "code",
   "execution_count": 9,
   "metadata": {},
   "outputs": [],
   "source": [
    "# E. coli performance comparison\n",
    "coli_base_df = get_performance_table(\n",
    "    {\n",
    "        \"Morgan-1024\": results_dict[\"DRIAMS-A_spectra_Morgan_1024\"],\n",
    "        \"Mole-BERT\": results_dict[\"DRIAMS-A_spectra_Mole_BERT\"],\n",
    "    },\n",
    "    species=\"Escherichia coli\",\n",
    "    drugs=coli_drugs,\n",
    "    bootstrap=1000,\n",
    ")\n",
    "coli_finetuned_df = get_performance_table(\n",
    "    {\n",
    "        \"Morgan-1024\": finetuned_results_dict[\"DRIAMS-A_spectra_Morgan_1024\"],\n",
    "        \"Mole-BERT\": finetuned_results_dict[\"DRIAMS-A_spectra_Mole_BERT\"],\n",
    "    },\n",
    "    species=\"Escherichia coli\",\n",
    "    drugs=coli_drugs,\n",
    "    bootstrap=1000,\n",
    ")"
   ]
  },
  {
   "cell_type": "code",
   "execution_count": 10,
   "metadata": {},
   "outputs": [],
   "source": [
    "# K. pneumoniae performance comparison\n",
    "pneumoniae_base_df = get_performance_table(\n",
    "    {\n",
    "        \"Morgan-1024\": results_dict[\"DRIAMS-A_spectra_Morgan_1024\"],\n",
    "        \"Mole-BERT\": results_dict[\"DRIAMS-A_spectra_Mole_BERT\"],\n",
    "    },\n",
    "    species=\"Klebsiella pneumoniae\",\n",
    "    drugs=pneumoniae_drugs,\n",
    "    bootstrap=1000,\n",
    ")\n",
    "pneumoniae_finetuned_df = get_performance_table(\n",
    "    {\n",
    "        \"Morgan-1024\": finetuned_results_dict[\"DRIAMS-A_spectra_Morgan_1024\"],\n",
    "        \"Mole-BERT\": finetuned_results_dict[\"DRIAMS-A_spectra_Mole_BERT\"],\n",
    "    },\n",
    "    species=\"Klebsiella pneumoniae\",\n",
    "    drugs=pneumoniae_drugs,\n",
    "    bootstrap=1000,\n",
    ")"
   ]
  },
  {
   "cell_type": "code",
   "execution_count": null,
   "metadata": {},
   "outputs": [],
   "source": [
    "pd.concat([performance_dfs[\"Escherichia coli\"], coli_finetuned_df]).xs(\n",
    "    \"AUROC\", level=1\n",
    ").round(3).T.rename(columns={\"Mole-BERT\": \"ResMLP-GNN\", \"Morgan-1024\": \"ResMLP\"})"
   ]
  },
  {
   "cell_type": "code",
   "execution_count": null,
   "metadata": {},
   "outputs": [],
   "source": [
    "pd.concat([performance_dfs[\"Klebsiella pneumoniae\"], pneumoniae_finetuned_df]).xs(\n",
    "    \"AUROC\", level=1\n",
    ").round(3).T.rename(columns={\"Mole-BERT\": \"ResMLP-GNN\", \"Morgan-1024\": \"ResMLP\"})"
   ]
  },
  {
   "cell_type": "markdown",
   "metadata": {},
   "source": [
    "### Plot base and fine-tuned performance on relevant species-drug combinations"
   ]
  },
  {
   "cell_type": "code",
   "execution_count": null,
   "metadata": {},
   "outputs": [],
   "source": [
    "dataset = \"A\"\n",
    "method = \"spectra\"\n",
    "drug_representation = \"Mole_BERT\"\n",
    "\n",
    "plot_curves(\n",
    "    results_dict={\n",
    "        \"DRIAMS-A_spectra\": finetuned_results_dict[\n",
    "            f\"DRIAMS-{dataset}_{method}_{drug_representation}\"\n",
    "        ]\n",
    "    },\n",
    "    species=\"Escherichia coli\",\n",
    "    drugs=coli_drugs,\n",
    "    save=f\"{results_path}/finetuned_curves_ecoli.pdf\",\n",
    ")\n",
    "plot_curves(\n",
    "    results_dict={\n",
    "        \"DRIAMS-A_spectra\": finetuned_results_dict[\n",
    "            f\"DRIAMS-{dataset}_{method}_{drug_representation}\"\n",
    "        ]\n",
    "    },\n",
    "    species=\"Klebsiella pneumoniae\",\n",
    "    drugs=pneumoniae_drugs,\n",
    "    save=f\"{results_path}/finetuned_curves_kpneu.pdf\",\n",
    ")"
   ]
  }
 ],
 "metadata": {
  "kernelspec": {
   "display_name": "AMR",
   "language": "python",
   "name": "python3"
  },
  "language_info": {
   "codemirror_mode": {
    "name": "ipython",
    "version": 3
   },
   "file_extension": ".py",
   "mimetype": "text/x-python",
   "name": "python",
   "nbconvert_exporter": "python",
   "pygments_lexer": "ipython3",
   "version": "3.11.10"
  }
 },
 "nbformat": 4,
 "nbformat_minor": 2
}
