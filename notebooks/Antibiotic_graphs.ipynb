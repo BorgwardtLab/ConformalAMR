{
 "cells": [
  {
   "cell_type": "code",
   "execution_count": 2,
   "metadata": {},
   "outputs": [],
   "source": [
    "%load_ext autoreload\n",
    "%autoreload 2"
   ]
  },
  {
   "cell_type": "code",
   "execution_count": 3,
   "metadata": {},
   "outputs": [],
   "source": [
    "import os\n",
    "import json\n",
    "import pandas as pd\n",
    "from tqdm.notebook import tqdm\n",
    "import numpy as np\n",
    "\n",
    "from conformal_amr.models.utils import create_ab_graph\n",
    "\n",
    "from conformal_amr.models.mole_bert import graphcl, GNN, DiscreteGNN, global_mean_pool\n",
    "from conformal_amr.data_split.mole_bert_loaders import (\n",
    "    MoleculeGraphDataset,\n",
    "    MoleculeDataset,\n",
    "    DataLoaderMaskingPred,\n",
    ")\n",
    "from torch import nn\n",
    "import torch\n",
    "\n",
    "from sklearn.metrics.pairwise import cosine_similarity\n",
    "import matplotlib.patheffects as PathEffects"
   ]
  },
  {
   "cell_type": "code",
   "execution_count": 4,
   "metadata": {},
   "outputs": [],
   "source": [
    "import warnings\n",
    "\n",
    "warnings.filterwarnings(\"ignore\")"
   ]
  },
  {
   "cell_type": "markdown",
   "metadata": {},
   "source": [
    "### Load data"
   ]
  },
  {
   "cell_type": "code",
   "execution_count": null,
   "metadata": {},
   "outputs": [],
   "source": [
    "driams_long_table = pd.read_csv(\n",
    "    \"/fs/pool/pool-miranda/Projects/AMR/ConformalAMR/data/Processed/DRIAMS_combined_long_table_multidrug.csv\"\n",
    ")\n",
    "driams_long_table"
   ]
  },
  {
   "cell_type": "code",
   "execution_count": null,
   "metadata": {},
   "outputs": [],
   "source": [
    "# Get number of labels and prevalence per species and antibiotic\n",
    "driams_a_prev = (\n",
    "    driams_long_table[driams_long_table[\"dataset\"] == \"A\"]\n",
    "    .groupby([\"species\", \"drug\"])[\"response\"]\n",
    "    .agg([\"count\", \"mean\"])\n",
    ")\n",
    "driams_a_prev.xs(\"Escherichia coli\", axis=0, level=0)"
   ]
  },
  {
   "cell_type": "markdown",
   "metadata": {},
   "source": [
    "# Get SMILES and graph representation of molecules"
   ]
  },
  {
   "cell_type": "code",
   "execution_count": null,
   "metadata": {},
   "outputs": [],
   "source": [
    "drug_representations = {}\n",
    "for drug in tqdm(driams_long_table.drug.unique()):\n",
    "    if drug not in drug_representations.keys():\n",
    "        try:\n",
    "            drug_representations[drug] = create_ab_graph(drug)\n",
    "        except:\n",
    "            print(f\"Failed to get representation for {drug}\")\n",
    "\n",
    "print(f\"Got representations for {len(drug_representations.keys())} drugs\")"
   ]
  },
  {
   "cell_type": "markdown",
   "metadata": {},
   "source": [
    "### Load Mole-BERT pretrained model"
   ]
  },
  {
   "cell_type": "code",
   "execution_count": 6,
   "metadata": {},
   "outputs": [],
   "source": [
    "gnn = GNN(num_layer=5, emb_dim=300, JK=\"last\", drop_ratio=0, gnn_type=\"gin\")\n",
    "model = graphcl(gnn).eval()\n",
    "model.gnn.from_pretrained(\n",
    "    \"/fs/pool/pool-miranda/Projects/AMR/Mole-BERT/model_gin/Mole-BERT.pth\"\n",
    ")"
   ]
  },
  {
   "cell_type": "code",
   "execution_count": null,
   "metadata": {},
   "outputs": [],
   "source": [
    "DRIAMS_ab_dataset = MoleculeGraphDataset(\n",
    "    mol_list_of_lists=[\n",
    "        drug_representations[antibiotic][2]\n",
    "        for antibiotic in drug_representations.keys()\n",
    "    ],\n",
    ")\n",
    "DRIAMS_ab_dataloader = DataLoaderMaskingPred(\n",
    "    DRIAMS_ab_dataset,\n",
    "    batch_size=len(DRIAMS_ab_dataset),\n",
    "    mask_rate=0.0,\n",
    "    mask_edge=0.0,\n",
    "    shuffle=False,\n",
    ")\n",
    "DRIAMS_ab_batch = next(iter(DRIAMS_ab_dataloader))\n",
    "amr_drugs = pd.DataFrame(\n",
    "    model.forward_cl(\n",
    "        DRIAMS_ab_batch.x,\n",
    "        DRIAMS_ab_batch.edge_index,\n",
    "        DRIAMS_ab_batch.edge_attr,\n",
    "        DRIAMS_ab_batch.batch,\n",
    "    )[1]\n",
    "    .detach()\n",
    "    .numpy()\n",
    ")\n",
    "amr_drugs[\"drug\"] = [drug for drug in drug_representations.keys()]\n",
    "amr_drugs.set_index(\"drug\", inplace=True)\n",
    "amr_drugs = (amr_drugs - amr_drugs.mean()) / amr_drugs.std()\n",
    "amr_drugs"
   ]
  },
  {
   "cell_type": "code",
   "execution_count": 8,
   "metadata": {},
   "outputs": [],
   "source": [
    "# Save drug embeddings in a format compatible with our AMR models\n",
    "amr_drugs.to_csv(\n",
    "    \"/fs/pool/pool-miranda/Projects/AMR/ConformalAMR/data/Processed/DRIAMS_Mole-BERT_drug_embeddings.csv\"\n",
    ")"
   ]
  },
  {
   "cell_type": "code",
   "execution_count": 9,
   "metadata": {},
   "outputs": [],
   "source": [
    "drug_data = \"\"\"\n",
    ">>>Penicillins\n",
    "Piperacillin-Tazobactam\n",
    "Amoxicillin-Clavulanic acid\n",
    "Amoxicillin\n",
    "Penicillin\n",
    "Ampicillin-Amoxicillin\n",
    "Oxacillin\n",
    "Ticarcillin-Clavulanic acid\n",
    "Ampicillin-Sulbactam\n",
    "Ampicillin\n",
    "Piperacillin\n",
    "Ticarcillin\n",
    ">>>Cephalosporins\n",
    "Cefepime\n",
    "Ceftazidime\n",
    "Ceftriaxone\n",
    "Cefpodoxime\n",
    "Cefuroxime\n",
    "Cefazolin\n",
    "Cefixime\n",
    "Ceftarolin\n",
    "Ceftobiprole\n",
    "Cefoxitin\n",
    "Cefotaxime\n",
    ">>>Carbapenems\n",
    "Meropenem\n",
    "Imipenem\n",
    "Ertapenem\n",
    ">>>Monobactams\n",
    "Aztreonam\n",
    ">>>Flouroquinolones\n",
    "Ciprofloxacin\n",
    "Levofloxacin\n",
    "Norfloxacin\n",
    "Moxifloxacin\n",
    "Ofloxacin\n",
    ">>>Macrolides and lincosamides\n",
    "Clindamycin\n",
    ">>>Aminoglycosides\n",
    "Amikacin\n",
    "Tobramycin\n",
    "Erythromycin\n",
    "Gentamicin\n",
    "Clarithromycin\n",
    "Azithromycin\n",
    "Telithromycin\n",
    ">>>Glycopeptides\n",
    "Vancomycin\n",
    "Teicoplanin\n",
    ">>>Tetracyclines\n",
    "Tetracycline\n",
    "Tigecycline\n",
    "Doxycycline\n",
    "Minocin\n",
    ">>>Azoles\n",
    "Fluconazole\n",
    "Itraconazole\n",
    "Voriconazole\n",
    "Posaconazole\n",
    "Isavuconazole\n",
    ">>>Echinocandins\n",
    "Caspofungin\n",
    "Micafungin\n",
    "Anidulafungin\n",
    ">>>Miscallaneaous\n",
    "Cotrimoxazol\n",
    "Colistin\n",
    "Metronidazole\n",
    "Amphotericin B\n",
    "5-Fluorocytosine\n",
    "Fosfomycin-Trometamol\n",
    "Nitrofurantoin\n",
    "Linezolid\n",
    "Daptomycin\n",
    "Chloramphenicol\n",
    "Rifamdin\n",
    "Fusidic acid\n",
    "Mupirocin\n",
    "Fosfomycin\n",
    "Bacitracin\n",
    "Polymyxin\n",
    "Novobiocin\n",
    "\"\"\"\n",
    "\n",
    "# Initialize empty lists to hold drug names and classes\n",
    "drug_names = []\n",
    "drug_classes = []\n",
    "\n",
    "# Split the data into lines and iterate\n",
    "current_class = None\n",
    "for line in drug_data.splitlines():\n",
    "    if line.startswith(\">>>\"):\n",
    "        # New class detected, update current_class\n",
    "        current_class = line.replace(\">>>\", \"\").strip()\n",
    "    elif line.strip():\n",
    "        # It's a drug name, append to the list along with the current class\n",
    "        drug_names.append(line.strip())\n",
    "        drug_classes.append(current_class)\n",
    "\n",
    "# Create the dataframe from parsed data\n",
    "drug_classes = pd.DataFrame({\"drug\": drug_names, \"class\": drug_classes}).set_index(\n",
    "    \"drug\"\n",
    ")"
   ]
  },
  {
   "cell_type": "code",
   "execution_count": 10,
   "metadata": {},
   "outputs": [],
   "source": [
    "def get_closest_matches(query, embeddings, drug_structures):\n",
    "\n",
    "    # Get the embeddings of the query\n",
    "    dbase = embeddings.loc[embeddings.index != query]\n",
    "    query = embeddings.loc[query]\n",
    "\n",
    "    # Compute cosine similarity between query and all embeddings\n",
    "    cosine_sim = cosine_similarity(query.values.reshape(1, -1), dbase.values)[0]\n",
    "\n",
    "    # Get the name of the drug with the highest cosine similarity\n",
    "    closest_drug = dbase.index[cosine_sim.argmax()]\n",
    "\n",
    "    # Get the structure of the closest drug\n",
    "    closest_structure = drug_structures[closest_drug][2]\n",
    "\n",
    "    return closest_drug, closest_structure"
   ]
  },
  {
   "cell_type": "code",
   "execution_count": null,
   "metadata": {},
   "outputs": [],
   "source": [
    "print(\"Query:\")\n",
    "query = \"Amoxicillin-Clavulanic acid\"\n",
    "drug_representations[query][2][1]"
   ]
  },
  {
   "cell_type": "code",
   "execution_count": null,
   "metadata": {},
   "outputs": [],
   "source": [
    "name, struct = get_closest_matches(query, amr_drugs, drug_representations)\n",
    "print(\"Closest match:\", name)\n",
    "struct[0]"
   ]
  },
  {
   "cell_type": "code",
   "execution_count": 13,
   "metadata": {},
   "outputs": [],
   "source": [
    "import umap\n",
    "import seaborn as sns\n",
    "import matplotlib.pyplot as plt\n",
    "\n",
    "dim_red = umap.UMAP(n_components=2, n_neighbors=15, metric=\"cosine\")\n",
    "amr_drugs_umap = dim_red.fit_transform(amr_drugs)\n",
    "\n",
    "amr_drugs_red_df = pd.DataFrame(\n",
    "    amr_drugs_umap, columns=[\"UMAP-1\", \"UMAP-2\"], index=amr_drugs.index\n",
    ")\n",
    "amr_drugs_red_df[\"class\"] = drug_classes.loc[amr_drugs_red_df.index].values.flatten()\n",
    "amr_drugs_red_df[\"multi_drug\"] = amr_drugs_red_df.index.str.split(\"-\").str.len() > 1"
   ]
  },
  {
   "cell_type": "code",
   "execution_count": null,
   "metadata": {},
   "outputs": [],
   "source": [
    "sns.set_context(\"paper\")\n",
    "plt.figure(figsize=(10, 10))\n",
    "sns.scatterplot(\n",
    "    data=amr_drugs_red_df,\n",
    "    x=\"UMAP-1\",\n",
    "    y=\"UMAP-2\",\n",
    "    hue=\"class\",\n",
    "    palette=\"tab20\",\n",
    "    alpha=0.8,\n",
    "    s=200,\n",
    ")\n",
    "\n",
    "# Add the drug structures\n",
    "for drug in amr_drugs_red_df.index:\n",
    "    txt = plt.text(\n",
    "        amr_drugs_red_df.loc[drug, \"UMAP-1\"],\n",
    "        amr_drugs_red_df.loc[drug, \"UMAP-2\"],\n",
    "        drug,\n",
    "        fontsize=10,\n",
    "        ha=\"center\",\n",
    "        va=\"center\",\n",
    "    )\n",
    "    txt.set_path_effects([PathEffects.withStroke(linewidth=1, foreground=\"w\")])\n",
    "\n",
    "# Despine the plot\n",
    "sns.despine()\n",
    "\n",
    "# Add grid\n",
    "plt.grid(True)\n",
    "\n",
    "plt.xlabel(\"UMAP-1\")\n",
    "plt.ylabel(\"UMAP-2\")\n",
    "\n",
    "plt.legend(loc=\"center left\", bbox_to_anchor=(1, 0.5))\n",
    "plt.savefig(\n",
    "    \"/fs/pool/pool-miranda/Projects/AMR/ConformalAMR/figures/DRIAMS_Mole-BERT_drug_embeddings.pdf\",\n",
    "    dpi=400,\n",
    "    bbox_inches=\"tight\",\n",
    ")\n",
    "plt.show()"
   ]
  }
 ],
 "metadata": {
  "kernelspec": {
   "display_name": "AMR",
   "language": "python",
   "name": "python3"
  },
  "language_info": {
   "codemirror_mode": {
    "name": "ipython",
    "version": 3
   },
   "file_extension": ".py",
   "mimetype": "text/x-python",
   "name": "python",
   "nbconvert_exporter": "python",
   "pygments_lexer": "ipython3",
   "version": "undefined.undefined.undefined"
  }
 },
 "nbformat": 4,
 "nbformat_minor": 2
}
