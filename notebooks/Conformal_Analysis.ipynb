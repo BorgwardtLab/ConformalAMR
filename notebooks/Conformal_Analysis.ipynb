{
 "cells": [
  {
   "cell_type": "code",
   "execution_count": null,
   "metadata": {},
   "outputs": [],
   "source": [
    "import numpy as np\n",
    "import pandas as pd\n",
    "\n",
    "%matplotlib inline\n",
    "import matplotlib\n",
    "import matplotlib.pyplot as plt\n",
    "import seaborn as sns\n",
    "import warnings\n",
    "\n",
    "from notebook_utils import *"
   ]
  },
  {
   "cell_type": "markdown",
   "metadata": {},
   "source": [
    "### Load Data"
   ]
  },
  {
   "cell_type": "code",
   "execution_count": null,
   "metadata": {},
   "outputs": [],
   "source": [
    "df_results_cross_ecoli = pd.read_csv(\n",
    "    \"../results/Conformal_Evaluation/df_results_cross_Escherichia coli.csv\"\n",
    ")\n",
    "df_hyperparam_results_ecoli = pd.read_csv(\n",
    "    \"../results/Conformal_Evaluation/df_hyperparam_results_Escherichia coli.csv\"\n",
    ")\n",
    "df_results_per_drug_ecoli = pd.read_csv(\n",
    "    \"../results/Conformal_Evaluation/df_results_per_drug_Escherichia coli.csv\"\n",
    ")"
   ]
  },
  {
   "cell_type": "code",
   "execution_count": null,
   "metadata": {},
   "outputs": [],
   "source": [
    "df_results_cross_klebsiella = pd.read_csv(\n",
    "    \"../results/Conformal_Evaluation/df_results_cross_Klebsiella pneumoniae.csv\"\n",
    ")\n",
    "df_hyperparam_results_klebsiella = pd.read_csv(\n",
    "    \"../results/Conformal_Evaluation/df_hyperparam_results_Klebsiella pneumoniae.csv\"\n",
    ")\n",
    "df_results_per_drug_klebsiella = pd.read_csv(\n",
    "    \"../results/Conformal_Evaluation/df_results_per_drug_Klebsiella pneumoniae.csv\"\n",
    ")"
   ]
  },
  {
   "cell_type": "markdown",
   "metadata": {},
   "source": [
    "### Marginal Group FDR, FNR, Error Rate"
   ]
  },
  {
   "cell_type": "code",
   "execution_count": null,
   "metadata": {},
   "outputs": [],
   "source": [
    "# Create a folder if it does not exist\n",
    "os.makedirs(\"../images/conformal_results_klebsiella\", exist_ok=True)\n",
    "marginal_group_figures(\n",
    "    df_results_cross_klebsiella, \"../images/conformal_results_klebsiella\"\n",
    ")"
   ]
  },
  {
   "cell_type": "markdown",
   "metadata": {},
   "source": [
    "*Escherichia coli*"
   ]
  },
  {
   "cell_type": "code",
   "execution_count": null,
   "metadata": {},
   "outputs": [],
   "source": [
    "os.makedirs(\"../images/conformal_results_ecoli\", exist_ok=True)\n",
    "marginal_group_figures(df_results_cross_ecoli, \"../images/conformal_results_ecoli\")"
   ]
  },
  {
   "cell_type": "markdown",
   "metadata": {},
   "source": [
    "### Hyperparameter Study"
   ]
  },
  {
   "cell_type": "markdown",
   "metadata": {},
   "source": [
    "***Variable Mixing Parameter $\\tau$***"
   ]
  },
  {
   "cell_type": "markdown",
   "metadata": {},
   "source": [
    "*Klebsiella pneumoniae*"
   ]
  },
  {
   "cell_type": "code",
   "execution_count": null,
   "metadata": {},
   "outputs": [],
   "source": [
    "hyperparam_study_tau_figures(\n",
    "    df_hyperparam_results_klebsiella, \"../images/conformal_results_klebsiella\"\n",
    ")"
   ]
  },
  {
   "cell_type": "markdown",
   "metadata": {},
   "source": [
    "*Escherichia coli*"
   ]
  },
  {
   "cell_type": "code",
   "execution_count": null,
   "metadata": {},
   "outputs": [],
   "source": [
    "hyperparam_study_tau_figures(\n",
    "    df_hyperparam_results_ecoli, \"../images/conformal_results_ecoli\"\n",
    ")"
   ]
  },
  {
   "cell_type": "markdown",
   "metadata": {},
   "source": [
    "***Variable Aggregation Function $g_{agg}$***"
   ]
  },
  {
   "cell_type": "markdown",
   "metadata": {},
   "source": [
    "*Klebsiella pneumoniae*"
   ]
  },
  {
   "cell_type": "code",
   "execution_count": null,
   "metadata": {},
   "outputs": [],
   "source": [
    "hyperparam_study_aggfunc_figures(\n",
    "    df_hyperparam_results_klebsiella, \"../images/conformal_results_klebsiella\"\n",
    ")"
   ]
  },
  {
   "cell_type": "markdown",
   "metadata": {},
   "source": [
    "*Escherichia coli*"
   ]
  },
  {
   "cell_type": "code",
   "execution_count": null,
   "metadata": {},
   "outputs": [],
   "source": [
    "hyperparam_study_aggfunc_figures(\n",
    "    df_hyperparam_results_ecoli, \"../images/conformal_results_ecoli\"\n",
    ")"
   ]
  },
  {
   "cell_type": "markdown",
   "metadata": {},
   "source": [
    "### Individual Antibiotic Coverage"
   ]
  },
  {
   "cell_type": "markdown",
   "metadata": {},
   "source": [
    "*Klebsiella pneumoniae*"
   ]
  },
  {
   "cell_type": "code",
   "execution_count": null,
   "metadata": {},
   "outputs": [],
   "source": [
    "individual_coverage_figures(\n",
    "    df_results_per_drug_klebsiella, \"../images/conformal_results_klebsiella\"\n",
    ")"
   ]
  },
  {
   "cell_type": "markdown",
   "metadata": {},
   "source": [
    "*Escherichia coli*"
   ]
  },
  {
   "cell_type": "code",
   "execution_count": null,
   "metadata": {},
   "outputs": [],
   "source": [
    "individual_coverage_figures(\n",
    "    df_results_per_drug_ecoli, \"../images/conformal_results_ecoli\"\n",
    ")"
   ]
  }
 ],
 "metadata": {
  "kernelspec": {
   "display_name": "env",
   "language": "python",
   "name": "python3"
  },
  "language_info": {
   "codemirror_mode": {
    "name": "ipython",
    "version": 3
   },
   "file_extension": ".py",
   "mimetype": "text/x-python",
   "name": "python",
   "nbconvert_exporter": "python",
   "pygments_lexer": "ipython3",
   "version": "3.11.10"
  }
 },
 "nbformat": 4,
 "nbformat_minor": 2
}
